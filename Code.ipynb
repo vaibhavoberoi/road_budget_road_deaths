{
 "cells": [
  {
   "cell_type": "code",
   "execution_count": 1,
   "metadata": {},
   "outputs": [
    {
     "data": {
      "text/plain": [
       "'\\n        Visualising the impact of amount invested by Government on roads \\n                                    vs \\n                The Death count caused by Road Accidents\\n                under varying unemployment and car sales, \\n                        over a span of 20 years.\\n'"
      ]
     },
     "execution_count": 1,
     "metadata": {},
     "output_type": "execute_result"
    }
   ],
   "source": [
    "'''\n",
    "        Visualising the impact of amount invested by Government on roads \n",
    "                                    vs \n",
    "                The Death count caused by Road Accidents\n",
    "                under varying unemployment and car sales, \n",
    "                        over a span of 20 years.\n",
    "'''"
   ]
  },
  {
   "cell_type": "code",
   "execution_count": 2,
   "metadata": {},
   "outputs": [],
   "source": [
    "import numpy as np\n",
    "import pandas as pd\n",
    "\n",
    "from bokeh.plotting import figure\n",
    "from bokeh.io import show\n",
    "from bokeh.models import ColumnDataSource, CDSView, GroupFilter\n",
    "from bokeh.models import LinearAxis, Range1d, HoverTool\n",
    "from bokeh.io import output_file\n",
    "from bokeh.models.widgets import Tabs,Panel"
   ]
  },
  {
   "cell_type": "code",
   "execution_count": 3,
   "metadata": {},
   "outputs": [],
   "source": [
    "pd.set_option('display.precision',7)\n",
    "df_spent=pd.read_csv(r'C:\\Users\\Vaibhav\\Documents\\Project\\Datasets\\DP_LIVE_17112019035247695.csv')"
   ]
  },
  {
   "cell_type": "code",
   "execution_count": 4,
   "metadata": {},
   "outputs": [
    {
     "data": {
      "text/html": [
       "<div>\n",
       "<style scoped>\n",
       "    .dataframe tbody tr th:only-of-type {\n",
       "        vertical-align: middle;\n",
       "    }\n",
       "\n",
       "    .dataframe tbody tr th {\n",
       "        vertical-align: top;\n",
       "    }\n",
       "\n",
       "    .dataframe thead th {\n",
       "        text-align: right;\n",
       "    }\n",
       "</style>\n",
       "<table border=\"1\" class=\"dataframe\">\n",
       "  <thead>\n",
       "    <tr style=\"text-align: right;\">\n",
       "      <th></th>\n",
       "      <th>LOCATION</th>\n",
       "      <th>INDICATOR</th>\n",
       "      <th>SUBJECT</th>\n",
       "      <th>MEASURE</th>\n",
       "      <th>FREQUENCY</th>\n",
       "      <th>TIME</th>\n",
       "      <th>Value</th>\n",
       "      <th>Flag Codes</th>\n",
       "    </tr>\n",
       "  </thead>\n",
       "  <tbody>\n",
       "    <tr>\n",
       "      <th>0</th>\n",
       "      <td>AUS</td>\n",
       "      <td>INFRAINVEST</td>\n",
       "      <td>ROAD</td>\n",
       "      <td>EUR</td>\n",
       "      <td>A</td>\n",
       "      <td>1994</td>\n",
       "      <td>2853264889.0</td>\n",
       "      <td>NaN</td>\n",
       "    </tr>\n",
       "    <tr>\n",
       "      <th>1</th>\n",
       "      <td>AUS</td>\n",
       "      <td>INFRAINVEST</td>\n",
       "      <td>ROAD</td>\n",
       "      <td>EUR</td>\n",
       "      <td>A</td>\n",
       "      <td>1995</td>\n",
       "      <td>2425107142.0</td>\n",
       "      <td>NaN</td>\n",
       "    </tr>\n",
       "    <tr>\n",
       "      <th>2</th>\n",
       "      <td>AUS</td>\n",
       "      <td>INFRAINVEST</td>\n",
       "      <td>ROAD</td>\n",
       "      <td>EUR</td>\n",
       "      <td>A</td>\n",
       "      <td>1996</td>\n",
       "      <td>2924042252.0</td>\n",
       "      <td>NaN</td>\n",
       "    </tr>\n",
       "    <tr>\n",
       "      <th>3</th>\n",
       "      <td>AUS</td>\n",
       "      <td>INFRAINVEST</td>\n",
       "      <td>ROAD</td>\n",
       "      <td>EUR</td>\n",
       "      <td>A</td>\n",
       "      <td>1997</td>\n",
       "      <td>3333285963.0</td>\n",
       "      <td>NaN</td>\n",
       "    </tr>\n",
       "    <tr>\n",
       "      <th>4</th>\n",
       "      <td>AUS</td>\n",
       "      <td>INFRAINVEST</td>\n",
       "      <td>ROAD</td>\n",
       "      <td>EUR</td>\n",
       "      <td>A</td>\n",
       "      <td>1998</td>\n",
       "      <td>3537193230.0</td>\n",
       "      <td>NaN</td>\n",
       "    </tr>\n",
       "  </tbody>\n",
       "</table>\n",
       "</div>"
      ],
      "text/plain": [
       "  LOCATION    INDICATOR SUBJECT MEASURE FREQUENCY  TIME         Value  \\\n",
       "0      AUS  INFRAINVEST    ROAD     EUR         A  1994  2853264889.0   \n",
       "1      AUS  INFRAINVEST    ROAD     EUR         A  1995  2425107142.0   \n",
       "2      AUS  INFRAINVEST    ROAD     EUR         A  1996  2924042252.0   \n",
       "3      AUS  INFRAINVEST    ROAD     EUR         A  1997  3333285963.0   \n",
       "4      AUS  INFRAINVEST    ROAD     EUR         A  1998  3537193230.0   \n",
       "\n",
       "  Flag Codes  \n",
       "0        NaN  \n",
       "1        NaN  \n",
       "2        NaN  \n",
       "3        NaN  \n",
       "4        NaN  "
      ]
     },
     "execution_count": 4,
     "metadata": {},
     "output_type": "execute_result"
    }
   ],
   "source": [
    "df_spent.head()"
   ]
  },
  {
   "cell_type": "code",
   "execution_count": null,
   "metadata": {},
   "outputs": [],
   "source": []
  },
  {
   "cell_type": "code",
   "execution_count": 5,
   "metadata": {},
   "outputs": [],
   "source": [
    "df_acc=pd.read_csv(r'C:\\Users\\Vaibhav\\Documents\\Project\\Datasets\\DP_LIVE_17112019035315885.csv')"
   ]
  },
  {
   "cell_type": "code",
   "execution_count": 6,
   "metadata": {},
   "outputs": [
    {
     "data": {
      "text/html": [
       "<div>\n",
       "<style scoped>\n",
       "    .dataframe tbody tr th:only-of-type {\n",
       "        vertical-align: middle;\n",
       "    }\n",
       "\n",
       "    .dataframe tbody tr th {\n",
       "        vertical-align: top;\n",
       "    }\n",
       "\n",
       "    .dataframe thead th {\n",
       "        text-align: right;\n",
       "    }\n",
       "</style>\n",
       "<table border=\"1\" class=\"dataframe\">\n",
       "  <thead>\n",
       "    <tr style=\"text-align: right;\">\n",
       "      <th></th>\n",
       "      <th>LOCATION</th>\n",
       "      <th>INDICATOR</th>\n",
       "      <th>SUBJECT</th>\n",
       "      <th>MEASURE</th>\n",
       "      <th>FREQUENCY</th>\n",
       "      <th>TIME</th>\n",
       "      <th>Value</th>\n",
       "      <th>Flag Codes</th>\n",
       "    </tr>\n",
       "  </thead>\n",
       "  <tbody>\n",
       "    <tr>\n",
       "      <th>0</th>\n",
       "      <td>LUX</td>\n",
       "      <td>ROADACCID</td>\n",
       "      <td>DEATH</td>\n",
       "      <td>1000000HAB</td>\n",
       "      <td>A</td>\n",
       "      <td>1994</td>\n",
       "      <td>163.8021964</td>\n",
       "      <td>NaN</td>\n",
       "    </tr>\n",
       "    <tr>\n",
       "      <th>1</th>\n",
       "      <td>LUX</td>\n",
       "      <td>ROADACCID</td>\n",
       "      <td>DEATH</td>\n",
       "      <td>1000000HAB</td>\n",
       "      <td>A</td>\n",
       "      <td>1995</td>\n",
       "      <td>171.3062099</td>\n",
       "      <td>NaN</td>\n",
       "    </tr>\n",
       "    <tr>\n",
       "      <th>2</th>\n",
       "      <td>LUX</td>\n",
       "      <td>ROADACCID</td>\n",
       "      <td>DEATH</td>\n",
       "      <td>1000000HAB</td>\n",
       "      <td>A</td>\n",
       "      <td>1996</td>\n",
       "      <td>171.4044300</td>\n",
       "      <td>NaN</td>\n",
       "    </tr>\n",
       "    <tr>\n",
       "      <th>3</th>\n",
       "      <td>LUX</td>\n",
       "      <td>ROADACCID</td>\n",
       "      <td>DEATH</td>\n",
       "      <td>1000000HAB</td>\n",
       "      <td>A</td>\n",
       "      <td>1997</td>\n",
       "      <td>143.0444630</td>\n",
       "      <td>NaN</td>\n",
       "    </tr>\n",
       "    <tr>\n",
       "      <th>4</th>\n",
       "      <td>LUX</td>\n",
       "      <td>ROADACCID</td>\n",
       "      <td>DEATH</td>\n",
       "      <td>1000000HAB</td>\n",
       "      <td>A</td>\n",
       "      <td>1998</td>\n",
       "      <td>134.2123852</td>\n",
       "      <td>NaN</td>\n",
       "    </tr>\n",
       "  </tbody>\n",
       "</table>\n",
       "</div>"
      ],
      "text/plain": [
       "  LOCATION  INDICATOR SUBJECT     MEASURE FREQUENCY  TIME        Value  \\\n",
       "0      LUX  ROADACCID   DEATH  1000000HAB         A  1994  163.8021964   \n",
       "1      LUX  ROADACCID   DEATH  1000000HAB         A  1995  171.3062099   \n",
       "2      LUX  ROADACCID   DEATH  1000000HAB         A  1996  171.4044300   \n",
       "3      LUX  ROADACCID   DEATH  1000000HAB         A  1997  143.0444630   \n",
       "4      LUX  ROADACCID   DEATH  1000000HAB         A  1998  134.2123852   \n",
       "\n",
       "  Flag Codes  \n",
       "0        NaN  \n",
       "1        NaN  \n",
       "2        NaN  \n",
       "3        NaN  \n",
       "4        NaN  "
      ]
     },
     "execution_count": 6,
     "metadata": {},
     "output_type": "execute_result"
    }
   ],
   "source": [
    "df_acc.head()"
   ]
  },
  {
   "cell_type": "code",
   "execution_count": 7,
   "metadata": {},
   "outputs": [],
   "source": [
    "df_car=pd.read_csv(r'C:\\Users\\Vaibhav\\Documents\\Project\\Datasets\\DP_LIVE_17112019035435512.csv')"
   ]
  },
  {
   "cell_type": "code",
   "execution_count": 8,
   "metadata": {},
   "outputs": [
    {
     "data": {
      "text/html": [
       "<div>\n",
       "<style scoped>\n",
       "    .dataframe tbody tr th:only-of-type {\n",
       "        vertical-align: middle;\n",
       "    }\n",
       "\n",
       "    .dataframe tbody tr th {\n",
       "        vertical-align: top;\n",
       "    }\n",
       "\n",
       "    .dataframe thead th {\n",
       "        text-align: right;\n",
       "    }\n",
       "</style>\n",
       "<table border=\"1\" class=\"dataframe\">\n",
       "  <thead>\n",
       "    <tr style=\"text-align: right;\">\n",
       "      <th></th>\n",
       "      <th>LOCATION</th>\n",
       "      <th>INDICATOR</th>\n",
       "      <th>SUBJECT</th>\n",
       "      <th>MEASURE</th>\n",
       "      <th>FREQUENCY</th>\n",
       "      <th>TIME</th>\n",
       "      <th>Value</th>\n",
       "      <th>Flag Codes</th>\n",
       "    </tr>\n",
       "  </thead>\n",
       "  <tbody>\n",
       "    <tr>\n",
       "      <th>0</th>\n",
       "      <td>AUS</td>\n",
       "      <td>PASSCAR</td>\n",
       "      <td>TOT</td>\n",
       "      <td>PC_CHG</td>\n",
       "      <td>A</td>\n",
       "      <td>1994</td>\n",
       "      <td>1.2500000</td>\n",
       "      <td>NaN</td>\n",
       "    </tr>\n",
       "    <tr>\n",
       "      <th>1</th>\n",
       "      <td>AUS</td>\n",
       "      <td>PASSCAR</td>\n",
       "      <td>TOT</td>\n",
       "      <td>PC_CHG</td>\n",
       "      <td>A</td>\n",
       "      <td>1995</td>\n",
       "      <td>6.0138755</td>\n",
       "      <td>NaN</td>\n",
       "    </tr>\n",
       "    <tr>\n",
       "      <th>2</th>\n",
       "      <td>AUS</td>\n",
       "      <td>PASSCAR</td>\n",
       "      <td>TOT</td>\n",
       "      <td>PC_CHG</td>\n",
       "      <td>A</td>\n",
       "      <td>1996</td>\n",
       "      <td>0.7547525</td>\n",
       "      <td>NaN</td>\n",
       "    </tr>\n",
       "    <tr>\n",
       "      <th>3</th>\n",
       "      <td>AUS</td>\n",
       "      <td>PASSCAR</td>\n",
       "      <td>TOT</td>\n",
       "      <td>PC_CHG</td>\n",
       "      <td>A</td>\n",
       "      <td>1997</td>\n",
       "      <td>9.8148999</td>\n",
       "      <td>NaN</td>\n",
       "    </tr>\n",
       "    <tr>\n",
       "      <th>4</th>\n",
       "      <td>AUS</td>\n",
       "      <td>PASSCAR</td>\n",
       "      <td>TOT</td>\n",
       "      <td>PC_CHG</td>\n",
       "      <td>A</td>\n",
       "      <td>1998</td>\n",
       "      <td>8.1441206</td>\n",
       "      <td>NaN</td>\n",
       "    </tr>\n",
       "  </tbody>\n",
       "</table>\n",
       "</div>"
      ],
      "text/plain": [
       "  LOCATION INDICATOR SUBJECT MEASURE FREQUENCY  TIME      Value Flag Codes\n",
       "0      AUS   PASSCAR     TOT  PC_CHG         A  1994  1.2500000        NaN\n",
       "1      AUS   PASSCAR     TOT  PC_CHG         A  1995  6.0138755        NaN\n",
       "2      AUS   PASSCAR     TOT  PC_CHG         A  1996  0.7547525        NaN\n",
       "3      AUS   PASSCAR     TOT  PC_CHG         A  1997  9.8148999        NaN\n",
       "4      AUS   PASSCAR     TOT  PC_CHG         A  1998  8.1441206        NaN"
      ]
     },
     "execution_count": 8,
     "metadata": {},
     "output_type": "execute_result"
    }
   ],
   "source": [
    "df_car.head()"
   ]
  },
  {
   "cell_type": "code",
   "execution_count": null,
   "metadata": {},
   "outputs": [],
   "source": []
  },
  {
   "cell_type": "code",
   "execution_count": 9,
   "metadata": {},
   "outputs": [],
   "source": [
    "df_unemp=pd.read_csv(r'C:\\Users\\Vaibhav\\Documents\\Project\\Datasets\\API_SL.UEM.TOTL.ZS_DS2_en_csv_v2_422140\\API_SL.UEM.TOTL.ZS_DS2_en_csv_v2_422140.csv',skiprows=3)"
   ]
  },
  {
   "cell_type": "code",
   "execution_count": 11,
   "metadata": {},
   "outputs": [],
   "source": [
    "#transformationabs"
   ]
  },
  {
   "cell_type": "code",
   "execution_count": 12,
   "metadata": {},
   "outputs": [],
   "source": [
    "#since all 3 column names same, we change:\n"
   ]
  },
  {
   "cell_type": "code",
   "execution_count": 13,
   "metadata": {},
   "outputs": [],
   "source": [
    "df_spent['Amount']=df_spent['Value']"
   ]
  },
  {
   "cell_type": "code",
   "execution_count": 14,
   "metadata": {},
   "outputs": [],
   "source": [
    "df_spent.drop('Value',axis=1,inplace=True)"
   ]
  },
  {
   "cell_type": "code",
   "execution_count": 15,
   "metadata": {},
   "outputs": [
    {
     "data": {
      "text/html": [
       "<div>\n",
       "<style scoped>\n",
       "    .dataframe tbody tr th:only-of-type {\n",
       "        vertical-align: middle;\n",
       "    }\n",
       "\n",
       "    .dataframe tbody tr th {\n",
       "        vertical-align: top;\n",
       "    }\n",
       "\n",
       "    .dataframe thead th {\n",
       "        text-align: right;\n",
       "    }\n",
       "</style>\n",
       "<table border=\"1\" class=\"dataframe\">\n",
       "  <thead>\n",
       "    <tr style=\"text-align: right;\">\n",
       "      <th></th>\n",
       "      <th>LOCATION</th>\n",
       "      <th>INDICATOR</th>\n",
       "      <th>SUBJECT</th>\n",
       "      <th>MEASURE</th>\n",
       "      <th>FREQUENCY</th>\n",
       "      <th>TIME</th>\n",
       "      <th>Flag Codes</th>\n",
       "      <th>Amount</th>\n",
       "    </tr>\n",
       "  </thead>\n",
       "  <tbody>\n",
       "    <tr>\n",
       "      <th>0</th>\n",
       "      <td>AUS</td>\n",
       "      <td>INFRAINVEST</td>\n",
       "      <td>ROAD</td>\n",
       "      <td>EUR</td>\n",
       "      <td>A</td>\n",
       "      <td>1994</td>\n",
       "      <td>NaN</td>\n",
       "      <td>2853264889.0</td>\n",
       "    </tr>\n",
       "    <tr>\n",
       "      <th>1</th>\n",
       "      <td>AUS</td>\n",
       "      <td>INFRAINVEST</td>\n",
       "      <td>ROAD</td>\n",
       "      <td>EUR</td>\n",
       "      <td>A</td>\n",
       "      <td>1995</td>\n",
       "      <td>NaN</td>\n",
       "      <td>2425107142.0</td>\n",
       "    </tr>\n",
       "    <tr>\n",
       "      <th>2</th>\n",
       "      <td>AUS</td>\n",
       "      <td>INFRAINVEST</td>\n",
       "      <td>ROAD</td>\n",
       "      <td>EUR</td>\n",
       "      <td>A</td>\n",
       "      <td>1996</td>\n",
       "      <td>NaN</td>\n",
       "      <td>2924042252.0</td>\n",
       "    </tr>\n",
       "    <tr>\n",
       "      <th>3</th>\n",
       "      <td>AUS</td>\n",
       "      <td>INFRAINVEST</td>\n",
       "      <td>ROAD</td>\n",
       "      <td>EUR</td>\n",
       "      <td>A</td>\n",
       "      <td>1997</td>\n",
       "      <td>NaN</td>\n",
       "      <td>3333285963.0</td>\n",
       "    </tr>\n",
       "    <tr>\n",
       "      <th>4</th>\n",
       "      <td>AUS</td>\n",
       "      <td>INFRAINVEST</td>\n",
       "      <td>ROAD</td>\n",
       "      <td>EUR</td>\n",
       "      <td>A</td>\n",
       "      <td>1998</td>\n",
       "      <td>NaN</td>\n",
       "      <td>3537193230.0</td>\n",
       "    </tr>\n",
       "  </tbody>\n",
       "</table>\n",
       "</div>"
      ],
      "text/plain": [
       "  LOCATION    INDICATOR SUBJECT MEASURE FREQUENCY  TIME Flag Codes  \\\n",
       "0      AUS  INFRAINVEST    ROAD     EUR         A  1994        NaN   \n",
       "1      AUS  INFRAINVEST    ROAD     EUR         A  1995        NaN   \n",
       "2      AUS  INFRAINVEST    ROAD     EUR         A  1996        NaN   \n",
       "3      AUS  INFRAINVEST    ROAD     EUR         A  1997        NaN   \n",
       "4      AUS  INFRAINVEST    ROAD     EUR         A  1998        NaN   \n",
       "\n",
       "         Amount  \n",
       "0  2853264889.0  \n",
       "1  2425107142.0  \n",
       "2  2924042252.0  \n",
       "3  3333285963.0  \n",
       "4  3537193230.0  "
      ]
     },
     "execution_count": 15,
     "metadata": {},
     "output_type": "execute_result"
    }
   ],
   "source": [
    "df_spent.head()"
   ]
  },
  {
   "cell_type": "code",
   "execution_count": 16,
   "metadata": {},
   "outputs": [],
   "source": [
    "#same with df_acc"
   ]
  },
  {
   "cell_type": "code",
   "execution_count": 17,
   "metadata": {},
   "outputs": [],
   "source": [
    "df_acc['Accno']=df_acc['Value']  #Accno implies number of accidents"
   ]
  },
  {
   "cell_type": "code",
   "execution_count": 18,
   "metadata": {},
   "outputs": [],
   "source": [
    "df_acc.drop('Value',axis=1,inplace=True)"
   ]
  },
  {
   "cell_type": "code",
   "execution_count": 19,
   "metadata": {
    "scrolled": true
   },
   "outputs": [
    {
     "data": {
      "text/html": [
       "<div>\n",
       "<style scoped>\n",
       "    .dataframe tbody tr th:only-of-type {\n",
       "        vertical-align: middle;\n",
       "    }\n",
       "\n",
       "    .dataframe tbody tr th {\n",
       "        vertical-align: top;\n",
       "    }\n",
       "\n",
       "    .dataframe thead th {\n",
       "        text-align: right;\n",
       "    }\n",
       "</style>\n",
       "<table border=\"1\" class=\"dataframe\">\n",
       "  <thead>\n",
       "    <tr style=\"text-align: right;\">\n",
       "      <th></th>\n",
       "      <th>LOCATION</th>\n",
       "      <th>INDICATOR</th>\n",
       "      <th>SUBJECT</th>\n",
       "      <th>MEASURE</th>\n",
       "      <th>FREQUENCY</th>\n",
       "      <th>TIME</th>\n",
       "      <th>Flag Codes</th>\n",
       "      <th>Accno</th>\n",
       "    </tr>\n",
       "  </thead>\n",
       "  <tbody>\n",
       "    <tr>\n",
       "      <th>0</th>\n",
       "      <td>LUX</td>\n",
       "      <td>ROADACCID</td>\n",
       "      <td>DEATH</td>\n",
       "      <td>1000000HAB</td>\n",
       "      <td>A</td>\n",
       "      <td>1994</td>\n",
       "      <td>NaN</td>\n",
       "      <td>163.8021964</td>\n",
       "    </tr>\n",
       "    <tr>\n",
       "      <th>1</th>\n",
       "      <td>LUX</td>\n",
       "      <td>ROADACCID</td>\n",
       "      <td>DEATH</td>\n",
       "      <td>1000000HAB</td>\n",
       "      <td>A</td>\n",
       "      <td>1995</td>\n",
       "      <td>NaN</td>\n",
       "      <td>171.3062099</td>\n",
       "    </tr>\n",
       "    <tr>\n",
       "      <th>2</th>\n",
       "      <td>LUX</td>\n",
       "      <td>ROADACCID</td>\n",
       "      <td>DEATH</td>\n",
       "      <td>1000000HAB</td>\n",
       "      <td>A</td>\n",
       "      <td>1996</td>\n",
       "      <td>NaN</td>\n",
       "      <td>171.4044300</td>\n",
       "    </tr>\n",
       "    <tr>\n",
       "      <th>3</th>\n",
       "      <td>LUX</td>\n",
       "      <td>ROADACCID</td>\n",
       "      <td>DEATH</td>\n",
       "      <td>1000000HAB</td>\n",
       "      <td>A</td>\n",
       "      <td>1997</td>\n",
       "      <td>NaN</td>\n",
       "      <td>143.0444630</td>\n",
       "    </tr>\n",
       "    <tr>\n",
       "      <th>4</th>\n",
       "      <td>LUX</td>\n",
       "      <td>ROADACCID</td>\n",
       "      <td>DEATH</td>\n",
       "      <td>1000000HAB</td>\n",
       "      <td>A</td>\n",
       "      <td>1998</td>\n",
       "      <td>NaN</td>\n",
       "      <td>134.2123852</td>\n",
       "    </tr>\n",
       "  </tbody>\n",
       "</table>\n",
       "</div>"
      ],
      "text/plain": [
       "  LOCATION  INDICATOR SUBJECT     MEASURE FREQUENCY  TIME Flag Codes  \\\n",
       "0      LUX  ROADACCID   DEATH  1000000HAB         A  1994        NaN   \n",
       "1      LUX  ROADACCID   DEATH  1000000HAB         A  1995        NaN   \n",
       "2      LUX  ROADACCID   DEATH  1000000HAB         A  1996        NaN   \n",
       "3      LUX  ROADACCID   DEATH  1000000HAB         A  1997        NaN   \n",
       "4      LUX  ROADACCID   DEATH  1000000HAB         A  1998        NaN   \n",
       "\n",
       "         Accno  \n",
       "0  163.8021964  \n",
       "1  171.3062099  \n",
       "2  171.4044300  \n",
       "3  143.0444630  \n",
       "4  134.2123852  "
      ]
     },
     "execution_count": 19,
     "metadata": {},
     "output_type": "execute_result"
    }
   ],
   "source": [
    "df_acc.head()"
   ]
  },
  {
   "cell_type": "code",
   "execution_count": null,
   "metadata": {},
   "outputs": [],
   "source": []
  },
  {
   "cell_type": "code",
   "execution_count": 20,
   "metadata": {},
   "outputs": [],
   "source": [
    "#same with df_car"
   ]
  },
  {
   "cell_type": "code",
   "execution_count": 21,
   "metadata": {},
   "outputs": [],
   "source": [
    "df_car['Car']=df_car['Value']"
   ]
  },
  {
   "cell_type": "code",
   "execution_count": 22,
   "metadata": {},
   "outputs": [],
   "source": [
    "df_car.drop('Value',axis=1,inplace=True)"
   ]
  },
  {
   "cell_type": "code",
   "execution_count": 24,
   "metadata": {},
   "outputs": [],
   "source": [
    "#merging"
   ]
  },
  {
   "cell_type": "code",
   "execution_count": 25,
   "metadata": {},
   "outputs": [],
   "source": [
    "df_spent_acc=df_spent.merge(df_acc,on=['LOCATION','TIME'],how='inner')"
   ]
  },
  {
   "cell_type": "code",
   "execution_count": 26,
   "metadata": {},
   "outputs": [],
   "source": [
    "df_spent_acc_car=df_spent_acc.merge(df_car,on=['LOCATION','TIME'],how='inner')"
   ]
  },
  {
   "cell_type": "code",
   "execution_count": 27,
   "metadata": {},
   "outputs": [],
   "source": [
    "df=df_spent_acc_car #merged 3 in 1"
   ]
  },
  {
   "cell_type": "code",
   "execution_count": 28,
   "metadata": {},
   "outputs": [
    {
     "data": {
      "text/html": [
       "<div>\n",
       "<style scoped>\n",
       "    .dataframe tbody tr th:only-of-type {\n",
       "        vertical-align: middle;\n",
       "    }\n",
       "\n",
       "    .dataframe tbody tr th {\n",
       "        vertical-align: top;\n",
       "    }\n",
       "\n",
       "    .dataframe thead th {\n",
       "        text-align: right;\n",
       "    }\n",
       "</style>\n",
       "<table border=\"1\" class=\"dataframe\">\n",
       "  <thead>\n",
       "    <tr style=\"text-align: right;\">\n",
       "      <th></th>\n",
       "      <th>LOCATION</th>\n",
       "      <th>INDICATOR_x</th>\n",
       "      <th>SUBJECT_x</th>\n",
       "      <th>MEASURE_x</th>\n",
       "      <th>FREQUENCY_x</th>\n",
       "      <th>TIME</th>\n",
       "      <th>Flag Codes_x</th>\n",
       "      <th>Amount</th>\n",
       "      <th>INDICATOR_y</th>\n",
       "      <th>SUBJECT_y</th>\n",
       "      <th>MEASURE_y</th>\n",
       "      <th>FREQUENCY_y</th>\n",
       "      <th>Flag Codes_y</th>\n",
       "      <th>Accno</th>\n",
       "      <th>INDICATOR</th>\n",
       "      <th>SUBJECT</th>\n",
       "      <th>MEASURE</th>\n",
       "      <th>FREQUENCY</th>\n",
       "      <th>Flag Codes</th>\n",
       "      <th>Car</th>\n",
       "    </tr>\n",
       "  </thead>\n",
       "  <tbody>\n",
       "    <tr>\n",
       "      <th>0</th>\n",
       "      <td>AUS</td>\n",
       "      <td>INFRAINVEST</td>\n",
       "      <td>ROAD</td>\n",
       "      <td>EUR</td>\n",
       "      <td>A</td>\n",
       "      <td>1994</td>\n",
       "      <td>NaN</td>\n",
       "      <td>2853264889.0</td>\n",
       "      <td>ROADACCID</td>\n",
       "      <td>DEATH</td>\n",
       "      <td>1000000HAB</td>\n",
       "      <td>A</td>\n",
       "      <td>NaN</td>\n",
       "      <td>107.9809577</td>\n",
       "      <td>PASSCAR</td>\n",
       "      <td>TOT</td>\n",
       "      <td>PC_CHG</td>\n",
       "      <td>A</td>\n",
       "      <td>NaN</td>\n",
       "      <td>1.2500000</td>\n",
       "    </tr>\n",
       "    <tr>\n",
       "      <th>1</th>\n",
       "      <td>AUS</td>\n",
       "      <td>INFRAINVEST</td>\n",
       "      <td>ROAD</td>\n",
       "      <td>EUR</td>\n",
       "      <td>A</td>\n",
       "      <td>1995</td>\n",
       "      <td>NaN</td>\n",
       "      <td>2425107142.0</td>\n",
       "      <td>ROADACCID</td>\n",
       "      <td>DEATH</td>\n",
       "      <td>1000000HAB</td>\n",
       "      <td>A</td>\n",
       "      <td>NaN</td>\n",
       "      <td>111.6091191</td>\n",
       "      <td>PASSCAR</td>\n",
       "      <td>TOT</td>\n",
       "      <td>PC_CHG</td>\n",
       "      <td>A</td>\n",
       "      <td>NaN</td>\n",
       "      <td>6.0138755</td>\n",
       "    </tr>\n",
       "    <tr>\n",
       "      <th>2</th>\n",
       "      <td>AUS</td>\n",
       "      <td>INFRAINVEST</td>\n",
       "      <td>ROAD</td>\n",
       "      <td>EUR</td>\n",
       "      <td>A</td>\n",
       "      <td>1996</td>\n",
       "      <td>NaN</td>\n",
       "      <td>2924042252.0</td>\n",
       "      <td>ROADACCID</td>\n",
       "      <td>DEATH</td>\n",
       "      <td>1000000HAB</td>\n",
       "      <td>A</td>\n",
       "      <td>NaN</td>\n",
       "      <td>107.5856043</td>\n",
       "      <td>PASSCAR</td>\n",
       "      <td>TOT</td>\n",
       "      <td>PC_CHG</td>\n",
       "      <td>A</td>\n",
       "      <td>NaN</td>\n",
       "      <td>0.7547525</td>\n",
       "    </tr>\n",
       "    <tr>\n",
       "      <th>3</th>\n",
       "      <td>AUS</td>\n",
       "      <td>INFRAINVEST</td>\n",
       "      <td>ROAD</td>\n",
       "      <td>EUR</td>\n",
       "      <td>A</td>\n",
       "      <td>1997</td>\n",
       "      <td>NaN</td>\n",
       "      <td>3333285963.0</td>\n",
       "      <td>ROADACCID</td>\n",
       "      <td>DEATH</td>\n",
       "      <td>1000000HAB</td>\n",
       "      <td>A</td>\n",
       "      <td>NaN</td>\n",
       "      <td>95.4258249</td>\n",
       "      <td>PASSCAR</td>\n",
       "      <td>TOT</td>\n",
       "      <td>PC_CHG</td>\n",
       "      <td>A</td>\n",
       "      <td>NaN</td>\n",
       "      <td>9.8148999</td>\n",
       "    </tr>\n",
       "    <tr>\n",
       "      <th>4</th>\n",
       "      <td>AUS</td>\n",
       "      <td>INFRAINVEST</td>\n",
       "      <td>ROAD</td>\n",
       "      <td>EUR</td>\n",
       "      <td>A</td>\n",
       "      <td>1998</td>\n",
       "      <td>NaN</td>\n",
       "      <td>3537193230.0</td>\n",
       "      <td>ROADACCID</td>\n",
       "      <td>DEATH</td>\n",
       "      <td>1000000HAB</td>\n",
       "      <td>A</td>\n",
       "      <td>NaN</td>\n",
       "      <td>93.7950938</td>\n",
       "      <td>PASSCAR</td>\n",
       "      <td>TOT</td>\n",
       "      <td>PC_CHG</td>\n",
       "      <td>A</td>\n",
       "      <td>NaN</td>\n",
       "      <td>8.1441206</td>\n",
       "    </tr>\n",
       "  </tbody>\n",
       "</table>\n",
       "</div>"
      ],
      "text/plain": [
       "  LOCATION  INDICATOR_x SUBJECT_x MEASURE_x FREQUENCY_x  TIME Flag Codes_x  \\\n",
       "0      AUS  INFRAINVEST      ROAD       EUR           A  1994          NaN   \n",
       "1      AUS  INFRAINVEST      ROAD       EUR           A  1995          NaN   \n",
       "2      AUS  INFRAINVEST      ROAD       EUR           A  1996          NaN   \n",
       "3      AUS  INFRAINVEST      ROAD       EUR           A  1997          NaN   \n",
       "4      AUS  INFRAINVEST      ROAD       EUR           A  1998          NaN   \n",
       "\n",
       "         Amount INDICATOR_y SUBJECT_y   MEASURE_y FREQUENCY_y Flag Codes_y  \\\n",
       "0  2853264889.0   ROADACCID     DEATH  1000000HAB           A          NaN   \n",
       "1  2425107142.0   ROADACCID     DEATH  1000000HAB           A          NaN   \n",
       "2  2924042252.0   ROADACCID     DEATH  1000000HAB           A          NaN   \n",
       "3  3333285963.0   ROADACCID     DEATH  1000000HAB           A          NaN   \n",
       "4  3537193230.0   ROADACCID     DEATH  1000000HAB           A          NaN   \n",
       "\n",
       "         Accno INDICATOR SUBJECT MEASURE FREQUENCY Flag Codes        Car  \n",
       "0  107.9809577   PASSCAR     TOT  PC_CHG         A        NaN  1.2500000  \n",
       "1  111.6091191   PASSCAR     TOT  PC_CHG         A        NaN  6.0138755  \n",
       "2  107.5856043   PASSCAR     TOT  PC_CHG         A        NaN  0.7547525  \n",
       "3   95.4258249   PASSCAR     TOT  PC_CHG         A        NaN  9.8148999  \n",
       "4   93.7950938   PASSCAR     TOT  PC_CHG         A        NaN  8.1441206  "
      ]
     },
     "execution_count": 28,
     "metadata": {},
     "output_type": "execute_result"
    }
   ],
   "source": [
    "df.head()"
   ]
  },
  {
   "cell_type": "code",
   "execution_count": 29,
   "metadata": {},
   "outputs": [],
   "source": [
    "#additional: removing unnecessary columns from here or indivudually before"
   ]
  },
  {
   "cell_type": "code",
   "execution_count": 30,
   "metadata": {},
   "outputs": [],
   "source": [
    "pd.options.display.float_format='{:.5f}'.format"
   ]
  },
  {
   "cell_type": "code",
   "execution_count": 31,
   "metadata": {},
   "outputs": [],
   "source": [
    "df['Amount']=df['Amount'].apply(int)"
   ]
  },
  {
   "cell_type": "code",
   "execution_count": 34,
   "metadata": {},
   "outputs": [],
   "source": [
    "\n",
    "dff=df.groupby('TIME').Accno.quantile([0.25,0.5,0.75])\n",
    "\n",
    "df['Color_ext']=df.apply(lambda x: 'Black' if x['Accno']>=dff[x['TIME']][0.75] else 'Red' if x['Accno']>=dff[x['TIME']][0.5] else 'Orange' if x['Accno']>=dff[x['TIME']][0.25] else 'Pink',axis=1)\n",
    "\n",
    "\n"
   ]
  },
  {
   "cell_type": "code",
   "execution_count": 35,
   "metadata": {},
   "outputs": [],
   "source": [
    "#transformations on unemp df\n",
    "\n",
    "years_list1=list(df.TIME.unique())\n",
    "years_list=[]\n",
    "for i in years_list1:\n",
    "    years_list.append(str(i))\n",
    "countries=['Australia','Canada','France']\n",
    "\n",
    "df_unemp=df_unemp.transpose()\n",
    "df_unemp.rename(columns=df_unemp.iloc[0],inplace=True)\n",
    "df_unemp=df_unemp.loc[years_list]\n",
    "df_unemp=df_unemp[countries]\n",
    "\n"
   ]
  },
  {
   "cell_type": "code",
   "execution_count": 36,
   "metadata": {},
   "outputs": [],
   "source": [
    "#new car registerations color change and sign change\n",
    "\n",
    "df['Color_newcar']=df.apply(lambda x:'Red' if x['Car']<=0 else 'Green',axis=1)\n",
    "df['Car']=df.apply(lambda x:-x['Car'] if float(x['Car'])<=0 else x['Car'],axis=1)"
   ]
  },
  {
   "cell_type": "code",
   "execution_count": null,
   "metadata": {},
   "outputs": [],
   "source": []
  },
  {
   "cell_type": "code",
   "execution_count": 37,
   "metadata": {},
   "outputs": [],
   "source": [
    "df['Amount_original']=df['Amount']\n",
    "\n",
    "df['Amount']=df['Amount'].astype('float')\n",
    "df['Amount']=df['Amount']/1000000000\n"
   ]
  },
  {
   "cell_type": "code",
   "execution_count": 38,
   "metadata": {},
   "outputs": [],
   "source": [
    "#one hover for all\n",
    "\n",
    "vhover=HoverTool(names=['Foo_aus','Foo_can','Foo_fra'],tooltips=[('year','@TIME'),('amount','@Amount_original')])\n"
   ]
  },
  {
   "cell_type": "code",
   "execution_count": 39,
   "metadata": {},
   "outputs": [],
   "source": [
    "vCDF=ColumnDataSource(df)"
   ]
  },
  {
   "cell_type": "markdown",
   "metadata": {},
   "source": [
    "# Australia"
   ]
  },
  {
   "cell_type": "code",
   "execution_count": 40,
   "metadata": {},
   "outputs": [],
   "source": [
    "#a single CDS containing all 3 dfs for all locations,\n",
    "#we will create different CDSViews for different locations"
   ]
  },
  {
   "cell_type": "code",
   "execution_count": 41,
   "metadata": {},
   "outputs": [],
   "source": [
    "spent_values_aus=np.array(df[df['LOCATION']=='AUS']['Amount'])\n",
    "acc_values_aus=np.array(df[df['LOCATION']=='AUS']['Accno'])\n",
    "\n",
    "#Determining Best Line/ Regression Line\n",
    "par=np.polyfit(spent_values_aus,acc_values_aus,1,full=True)\n",
    "slope=par[0][0]\n",
    "intercept=par[0][1]\n",
    "acc_values_aus_predicted=[slope*i+intercept for i in spent_values_aus]"
   ]
  },
  {
   "cell_type": "code",
   "execution_count": 42,
   "metadata": {},
   "outputs": [],
   "source": [
    "#unemp.aus\n",
    "aus_unemp=df_unemp['Australia']\n",
    "min_aus_unemp=min(aus_unemp)\n",
    "max_aus_unemp=max(aus_unemp)\n",
    "\n",
    "aus_unemp_scaled=[]\n",
    "for i in aus_unemp:\n",
    "    aus_unemp_scaled.append(round((i-min_aus_unemp)*25/(max_aus_unemp-min_aus_unemp)+4,2))"
   ]
  },
  {
   "cell_type": "code",
   "execution_count": 43,
   "metadata": {},
   "outputs": [],
   "source": [
    "#graph for australia\n",
    "\n",
    "#vCDF=ColumnDataSource(df)\n",
    "\n",
    "\n",
    "#creating view for aus\n",
    "view_aus=CDSView(source=vCDF,filters=[GroupFilter(column_name='LOCATION',group='AUS')])\n",
    "\n",
    "\n",
    "#creating figure\n",
    "aus_fig= figure(plot_height=450,\n",
    "                plot_width=700,\n",
    "                title='AUSTRALIA specs'\n",
    "                ,x_axis_label='Investment (Billion Euros)',\n",
    "                y_axis_label='No. of Deaths (Per Million Inhabitants)',\n",
    "                tools=[vhover,'box_select', 'lasso_select', 'poly_select', 'tap','box_zoom','wheel_zoom','pan', 'reset']\n",
    "                ,x_axis_type=\"linear\"\n",
    "                )\n",
    "#aus_fig.xaxis.major_label_orientation=math.pi/2\n",
    "\n",
    "aus_fig.below[0].formatter.use_scientific = False\n",
    "\n",
    "aus_fig.x_range = Range1d(2,17)\n",
    "aus_fig.y_range = Range1d(40, 120, bounds=(0, None))"
   ]
  },
  {
   "cell_type": "code",
   "execution_count": 44,
   "metadata": {},
   "outputs": [],
   "source": [
    "#now starting to standardize the values  of Australian \n",
    "\n",
    "#idea: to make of same scale: instead of AUS, take all 3 together #think\n",
    "val=df[df['LOCATION']=='AUS']['Car']\n",
    "\n",
    "min_val=min(val)\n",
    "max_val=max(val)\n",
    "\n",
    "new_val=[]\n",
    "\n",
    "for i in val:\n",
    "    new_val.append(round((i-min_val)*25/(max_val-min_val)+4,1))\n",
    "    \n"
   ]
  },
  {
   "cell_type": "code",
   "execution_count": 45,
   "metadata": {},
   "outputs": [],
   "source": [
    "#defining internal colors\n",
    "df_aus=df[df['LOCATION']=='AUS']\n",
    "\n",
    "col_aus_int=df_aus.apply(lambda x: 'Black' if x['Accno']>=df_aus.Accno.quantile(0.75) else 'Red' if x['Accno']>=df_aus.Accno.quantile(0.5) else 'Orange' if x['Accno']>=df_aus.Accno.quantile(0.25) else 'Pink',axis=1)"
   ]
  },
  {
   "cell_type": "code",
   "execution_count": 46,
   "metadata": {},
   "outputs": [],
   "source": [
    "col_aus_ext=df[df['LOCATION']=='AUS']['Color_ext']\n",
    "col_aus_newcar=df[df['LOCATION']=='AUS'].Color_newcar"
   ]
  },
  {
   "cell_type": "code",
   "execution_count": 47,
   "metadata": {},
   "outputs": [],
   "source": [
    "\n",
    "# del: aus_fig.circle(x=spent_values_aus,y=acc_values_aus,size=new_val,color='black',fill_color='white')\n",
    "\n",
    "\n",
    "#rendering\n",
    "\n",
    "aus_fig.circle(x=spent_values_aus,y=acc_values_aus,size=10,color=col_aus_ext,legend='Actual points')\n",
    "\n",
    "\n",
    "#actual line\n",
    "aus_fig.line(spent_values_aus,acc_values_aus, color='Blue',\n",
    "             legend='Actual Line').visible=False\n",
    "\n",
    "\n",
    "\n",
    "#predicted line\n",
    "aus_fig.line(x=spent_values_aus,y=acc_values_aus_predicted,color='green',legend='Trend Detection').visible=False\n",
    "\n",
    "#for hover:\n",
    "aus_fig.circle(x='Amount',y='Accno',source=vCDF,view=view_aus,size=10,color=None,name='Foo_aus')\n",
    "\n",
    "aus_fig.circle(x=spent_values_aus,y=acc_values_aus,size=new_val,color=col_aus_newcar,fill_color='white',legend='Car Reg. (% change)').visible=False\n",
    "#show(aus_fig)\n",
    "\n",
    "\n",
    "\n",
    "#unemp circle\n",
    "aus_fig.circle(x=spent_values_aus,y=acc_values_aus,size=aus_unemp_scaled,color=col_aus_int,fill_color='white',legend='Unemployment %').visible=False\n",
    "\n",
    "\n",
    "#note: change aus_col_list to actual formula in above , or even better, add similar to CAN and FRA too\n",
    "\n",
    "\n",
    "\n",
    "aus_fig.legend.location='top_right'\n",
    "aus_fig.legend.click_policy = 'hide'"
   ]
  },
  {
   "cell_type": "markdown",
   "metadata": {},
   "source": [
    "# CANADA\n"
   ]
  },
  {
   "cell_type": "code",
   "execution_count": 49,
   "metadata": {},
   "outputs": [],
   "source": [
    "#view for Canada\n",
    "view_can=CDSView(source=vCDF,filters=[GroupFilter(column_name='LOCATION',group='CAN')])\n"
   ]
  },
  {
   "cell_type": "code",
   "execution_count": 50,
   "metadata": {},
   "outputs": [],
   "source": [
    "#predicted line\n",
    "spent_values_can=np.array(df[df.LOCATION=='CAN']['Amount'])\n",
    "acc_values_can=np.array(df[df.LOCATION=='CAN']['Accno'])\n",
    "\n",
    "par=np.polyfit(spent_values_can,acc_values_can,1,full=True)\n",
    "\n",
    "acc_values_can_predicted=[par[0][0]*i + par[0][1] for i in spent_values_can]\n",
    "\n",
    "col_can_ext=df[df['LOCATION']=='CAN']['Color_ext']"
   ]
  },
  {
   "cell_type": "code",
   "execution_count": 51,
   "metadata": {},
   "outputs": [],
   "source": [
    "#unemp\n",
    "can_unemp=df_unemp['Canada']\n",
    "min_can_unemp=min(can_unemp)\n",
    "max_can_unemp=max(can_unemp)\n",
    "\n",
    "can_unemp_scaled=[]\n",
    "for i in can_unemp:\n",
    "    can_unemp_scaled.append(round((i-min_can_unemp)*25/(max_can_unemp-min_can_unemp)+4,2))\n"
   ]
  },
  {
   "cell_type": "code",
   "execution_count": 52,
   "metadata": {},
   "outputs": [],
   "source": [
    "# now actual method\n",
    "\n",
    "can_fig=figure(plot_height=450,\n",
    "               plot_width=700,\n",
    "              title='CANADA Specs',\n",
    "                x_axis_label='Investment (Billion Euros)',\n",
    "                y_axis_label='No. of Deaths (Per Million Inhabitants)',\n",
    "              tools=[vhover,'box_select', 'lasso_select', 'poly_select', 'tap', 'reset'])\n",
    "\n",
    "can_fig.x_range=Range1d(2,16)\n",
    "can_fig.y_range=Range1d(40,120,bounds=(0,None))\n",
    "\n",
    "#hover\n",
    "can_fig.circle(x='Amount',y='Accno',source=vCDF,view=view_can,size=10,color=None,name='Foo_can')\n",
    "\n",
    "\n",
    "#rendering \n",
    "\n",
    "#circle point\n",
    "can_fig.circle(x=spent_values_can,y=acc_values_can,size=12,color=col_can_ext,legend='Actual points')\n",
    "\n",
    "#actual line\n",
    "can_fig.line(x=spent_values_can,y=acc_values_can,color='blue', legend='Actual Line').visible=False\n",
    "\n",
    "#predicted line\n",
    "can_fig.line(x=spent_values_can,y=acc_values_can_predicted,color='green', legend='Trend Detection').visible=False\n",
    "\n",
    "#show(can_fig)"
   ]
  },
  {
   "cell_type": "code",
   "execution_count": 53,
   "metadata": {},
   "outputs": [],
   "source": [
    "#circle color #already in aus, no need for again\n",
    "\n",
    "#vdf=df[df['LOCATION'].isin(['AUS','CAN','FRA'])].Accno #written in aus\n",
    "\n",
    "#df['Color']=df.apply(lambda x:'Black' if x['Accno']>=vdf.quantile(0.75) else 'Red' if x['Accno']>=vdf.quantile(0.5) else 'Orange' if x['Accno']>=vdf.quantile(0.25) else 'Pink',axis=1)\n"
   ]
  },
  {
   "cell_type": "code",
   "execution_count": 54,
   "metadata": {},
   "outputs": [],
   "source": [
    "df_can=df[df['LOCATION']=='CAN']\n",
    "\n",
    "col_can_int=df_can.apply(lambda x: 'Black' if x['Accno']>=df_can.Accno.quantile(0.75) else 'Red' if x['Accno']>=df_can.Accno.quantile(0.5) else 'Orange' if x['Accno']>=df_can.Accno.quantile(0.25) else 'Pink',axis=1)\n",
    "col_can_newcar=df[df['LOCATION']=='CAN'].Color_newcar"
   ]
  },
  {
   "cell_type": "code",
   "execution_count": 55,
   "metadata": {},
   "outputs": [],
   "source": [
    "#CIRCLE RING\n",
    "\n",
    "#FOR CIRCLE SIZE\n",
    "val=df[df['LOCATION']=='CAN']['Car']\n",
    "\n",
    "max_can=val.max()\n",
    "min_can=val.min()\n",
    "\n",
    "can_size=[]\n",
    "\n",
    "for i in val:\n",
    "    can_size.append(round((i-min_can)*25/(max_can-min_can)+4,1))\n",
    "\n",
    "can_fig.circle(x=spent_values_can,y=acc_values_can,size=can_size,color=col_can_newcar,fill_color='white',legend='Car Reg. (% change)').visible=False"
   ]
  },
  {
   "cell_type": "code",
   "execution_count": 56,
   "metadata": {},
   "outputs": [],
   "source": [
    "can_fig.circle(x=spent_values_can,y=acc_values_can,size=can_unemp_scaled,color=col_can_int,fill_color='white',legend='Unemployment %').visible=False"
   ]
  },
  {
   "cell_type": "markdown",
   "metadata": {},
   "source": [
    "# FRANCE"
   ]
  },
  {
   "cell_type": "code",
   "execution_count": 57,
   "metadata": {},
   "outputs": [],
   "source": [
    "#view for france\n",
    "view_fra=CDSView(source=vCDF,filters=[GroupFilter(column_name='LOCATION',group='FRA')])\n"
   ]
  },
  {
   "cell_type": "code",
   "execution_count": 58,
   "metadata": {},
   "outputs": [],
   "source": [
    "spent_values_fra=df[df['LOCATION']=='FRA']['Amount']\n",
    "acc_values_fra=df[df['LOCATION']=='FRA']['Accno']\n",
    "\n",
    "par=np.polyfit(spent_values_fra,acc_values_fra,1,full=True)\n",
    "acc_values_fra_predicted=[par[0][0]*i + par[0][1] for i in spent_values_fra]\n",
    "\n"
   ]
  },
  {
   "cell_type": "code",
   "execution_count": 59,
   "metadata": {},
   "outputs": [],
   "source": [
    "#unemp\n",
    "fra_unemp=df_unemp['France']\n",
    "min_fra_unemp=min(fra_unemp)\n",
    "max_fra_unemp=max(fra_unemp)\n",
    "\n",
    "fra_unemp_scaled=[]\n",
    "for i in fra_unemp:\n",
    "    fra_unemp_scaled.append(round((i-min_fra_unemp)*25/(max_fra_unemp-min_fra_unemp)+4,2))\n"
   ]
  },
  {
   "cell_type": "code",
   "execution_count": 60,
   "metadata": {},
   "outputs": [],
   "source": [
    "#size of circle\n",
    "\n",
    "\n",
    "car_fra=df[df['LOCATION']=='FRA']['Car']\n",
    "\n",
    "min_fra=car_fra.min()\n",
    "max_fra=car_fra.max()\n",
    "\n",
    "size_fra=[]\n",
    "\n",
    "for i in car_fra:\n",
    "    size_fra.append(round((i-min_fra)*20/(max_fra-min_fra)+4,2))"
   ]
  },
  {
   "cell_type": "code",
   "execution_count": 61,
   "metadata": {},
   "outputs": [],
   "source": [
    "#color of circle\n",
    "#internal\n",
    "df_fra=df[df['LOCATION']=='FRA']\n",
    "\n",
    "col_fra_int=df_fra.apply(lambda x: 'Black' if x['Accno']>=df_fra.Accno.quantile(0.75) else 'Red' if x['Accno']>=df_fra.Accno.quantile(0.5) else 'Orange' if x['Accno']>=df_fra.Accno.quantile(0.25) else 'Pink',axis=1)\n",
    "\n",
    "\n",
    "#external\n",
    "col_fra_ext=df[df['LOCATION']=='FRA']['Color_ext']\n",
    "\n",
    "#new cars\n",
    "col_fra_newcar=df[df['LOCATION']=='FRA'].Color_newcar"
   ]
  },
  {
   "cell_type": "code",
   "execution_count": null,
   "metadata": {},
   "outputs": [],
   "source": []
  },
  {
   "cell_type": "code",
   "execution_count": 62,
   "metadata": {},
   "outputs": [],
   "source": [
    "#creating figure\n",
    "fra_fig=figure(plot_height=450,\n",
    "               plot_width=700,\n",
    "               title='FRANCE Specs',\n",
    "                x_axis_label='Investment (Billion Euros)',\n",
    "                y_axis_label='No. of Deaths (Per Million Inhabitants)',\n",
    "               tools=[vhover,'box_select', 'lasso_select', 'poly_select', 'tap', 'reset'])\n",
    "\n",
    "fra_fig.x_range=Range1d(9.8,15)\n",
    "fra_fig.y_range=Range1d(40,160,bounds=(0,None))\n",
    "\n"
   ]
  },
  {
   "cell_type": "code",
   "execution_count": 63,
   "metadata": {},
   "outputs": [
    {
     "data": {
      "text/html": [
       "<div style=\"display: table;\"><div style=\"display: table-row;\"><div style=\"display: table-cell;\"><b title=\"bokeh.models.renderers.GlyphRenderer\">GlyphRenderer</b>(</div><div style=\"display: table-cell;\">id&nbsp;=&nbsp;'1353', <span id=\"1355\" style=\"cursor: pointer;\">&hellip;)</span></div></div><div class=\"1354\" style=\"display: none;\"><div style=\"display: table-cell;\"></div><div style=\"display: table-cell;\">data_source&nbsp;=&nbsp;ColumnDataSource(id='1002', ...),</div></div><div class=\"1354\" style=\"display: none;\"><div style=\"display: table-cell;\"></div><div style=\"display: table-cell;\">glyph&nbsp;=&nbsp;Circle(id='1351', ...),</div></div><div class=\"1354\" style=\"display: none;\"><div style=\"display: table-cell;\"></div><div style=\"display: table-cell;\">hover_glyph&nbsp;=&nbsp;None,</div></div><div class=\"1354\" style=\"display: none;\"><div style=\"display: table-cell;\"></div><div style=\"display: table-cell;\">js_event_callbacks&nbsp;=&nbsp;{},</div></div><div class=\"1354\" style=\"display: none;\"><div style=\"display: table-cell;\"></div><div style=\"display: table-cell;\">js_property_callbacks&nbsp;=&nbsp;{},</div></div><div class=\"1354\" style=\"display: none;\"><div style=\"display: table-cell;\"></div><div style=\"display: table-cell;\">level&nbsp;=&nbsp;'glyph',</div></div><div class=\"1354\" style=\"display: none;\"><div style=\"display: table-cell;\"></div><div style=\"display: table-cell;\">muted&nbsp;=&nbsp;False,</div></div><div class=\"1354\" style=\"display: none;\"><div style=\"display: table-cell;\"></div><div style=\"display: table-cell;\">muted_glyph&nbsp;=&nbsp;None,</div></div><div class=\"1354\" style=\"display: none;\"><div style=\"display: table-cell;\"></div><div style=\"display: table-cell;\">name&nbsp;=&nbsp;'Foo_fra',</div></div><div class=\"1354\" style=\"display: none;\"><div style=\"display: table-cell;\"></div><div style=\"display: table-cell;\">nonselection_glyph&nbsp;=&nbsp;Circle(id='1352', ...),</div></div><div class=\"1354\" style=\"display: none;\"><div style=\"display: table-cell;\"></div><div style=\"display: table-cell;\">selection_glyph&nbsp;=&nbsp;None,</div></div><div class=\"1354\" style=\"display: none;\"><div style=\"display: table-cell;\"></div><div style=\"display: table-cell;\">subscribed_events&nbsp;=&nbsp;[],</div></div><div class=\"1354\" style=\"display: none;\"><div style=\"display: table-cell;\"></div><div style=\"display: table-cell;\">tags&nbsp;=&nbsp;[],</div></div><div class=\"1354\" style=\"display: none;\"><div style=\"display: table-cell;\"></div><div style=\"display: table-cell;\">view&nbsp;=&nbsp;CDSView(id='1308', ...),</div></div><div class=\"1354\" style=\"display: none;\"><div style=\"display: table-cell;\"></div><div style=\"display: table-cell;\">visible&nbsp;=&nbsp;True,</div></div><div class=\"1354\" style=\"display: none;\"><div style=\"display: table-cell;\"></div><div style=\"display: table-cell;\">x_range_name&nbsp;=&nbsp;'default',</div></div><div class=\"1354\" style=\"display: none;\"><div style=\"display: table-cell;\"></div><div style=\"display: table-cell;\">y_range_name&nbsp;=&nbsp;'default')</div></div></div>\n",
       "<script>\n",
       "(function() {\n",
       "  var expanded = false;\n",
       "  var ellipsis = document.getElementById(\"1355\");\n",
       "  ellipsis.addEventListener(\"click\", function() {\n",
       "    var rows = document.getElementsByClassName(\"1354\");\n",
       "    for (var i = 0; i < rows.length; i++) {\n",
       "      var el = rows[i];\n",
       "      el.style.display = expanded ? \"none\" : \"table-row\";\n",
       "    }\n",
       "    ellipsis.innerHTML = expanded ? \"&hellip;)\" : \"&lsaquo;&lsaquo;&lsaquo;\";\n",
       "    expanded = !expanded;\n",
       "  });\n",
       "})();\n",
       "</script>\n"
      ],
      "text/plain": [
       "GlyphRenderer(id='1353', ...)"
      ]
     },
     "execution_count": 63,
     "metadata": {},
     "output_type": "execute_result"
    }
   ],
   "source": [
    "#for hover\n",
    "fra_fig.circle(x='Amount',y='Accno',source=vCDF,view=view_fra,size=10,color=None,name='Foo_fra')"
   ]
  },
  {
   "cell_type": "code",
   "execution_count": 64,
   "metadata": {},
   "outputs": [],
   "source": [
    "#actual points and points-color\n",
    "fra_fig.circle(x=spent_values_fra,y=acc_values_fra,color=col_fra_int,size=12,legend='Actual points')\n",
    "fra_fig.line(x=spent_values_fra,y=acc_values_fra,color='Blue',legend='Actual Line').visible=False\n"
   ]
  },
  {
   "cell_type": "code",
   "execution_count": 65,
   "metadata": {},
   "outputs": [],
   "source": [
    "#predicted line\n",
    "fra_fig.line(x=spent_values_fra,y=acc_values_fra_predicted,color='Green',legend='Trend Detection').visible=False"
   ]
  },
  {
   "cell_type": "code",
   "execution_count": 66,
   "metadata": {},
   "outputs": [],
   "source": [
    "#circle ring- size and color\n",
    "fra_fig.circle(x=spent_values_fra,y=acc_values_fra,color=col_fra_newcar,size=size_fra,fill_color='white',legend='Car Reg. (% change)').visible=False"
   ]
  },
  {
   "cell_type": "code",
   "execution_count": 67,
   "metadata": {},
   "outputs": [],
   "source": [
    "#circle unemp\n",
    "fra_fig.circle(x=spent_values_fra,y=acc_values_fra,size=fra_unemp_scaled,color=col_fra_int,fill_color='white',legend='Unemployment %').visible=False"
   ]
  },
  {
   "cell_type": "code",
   "execution_count": 68,
   "metadata": {},
   "outputs": [],
   "source": [
    "aus_fig.legend.click_policy = 'hide'\n",
    "can_fig.legend.click_policy='hide'\n",
    "fra_fig.legend.click_policy='hide'\n",
    "\n"
   ]
  },
  {
   "cell_type": "markdown",
   "metadata": {},
   "source": [
    "# Adding tabs"
   ]
  },
  {
   "cell_type": "code",
   "execution_count": 69,
   "metadata": {},
   "outputs": [],
   "source": [
    "aus_panel=Panel(child=aus_fig,title='AUSTRALIA')\n",
    "can_panel=Panel(child=can_fig,title='CANADA')\n",
    "fra_panel=Panel(child=fra_fig,title='FRANCE')\n",
    "\n",
    "vTab=Tabs(tabs=[aus_panel,can_panel,fra_panel])"
   ]
  },
  {
   "cell_type": "code",
   "execution_count": 70,
   "metadata": {},
   "outputs": [],
   "source": [
    "show(vTab)"
   ]
  }
 ],
 "metadata": {
  "kernelspec": {
   "display_name": "Python 3",
   "language": "python",
   "name": "python3"
  },
  "language_info": {
   "codemirror_mode": {
    "name": "ipython",
    "version": 3
   },
   "file_extension": ".py",
   "mimetype": "text/x-python",
   "name": "python",
   "nbconvert_exporter": "python",
   "pygments_lexer": "ipython3",
   "version": "3.7.3"
  }
 },
 "nbformat": 4,
 "nbformat_minor": 2
}
